{
 "cells": [
  {
   "cell_type": "markdown",
   "id": "0d25ba7a",
   "metadata": {},
   "source": [
    "## Estimation of city coordinates based on distance from each other\n",
    "\n"
   ]
  },
  {
   "cell_type": "code",
   "execution_count": 1,
   "id": "056f6ea7",
   "metadata": {},
   "outputs": [],
   "source": [
    "import random\n",
    "import numpy as np\n",
    "from matplotlib import pyplot as plt"
   ]
  },
  {
   "cell_type": "markdown",
   "id": "1b225d34",
   "metadata": {},
   "source": [
    "Optimization function estimates the city coordinates by minimizing the difference between estimated city coordinates and actual distance between them\n",
    "Funcation to implement the derivative of optimization function"
   ]
  },
  {
   "cell_type": "code",
   "execution_count": 2,
   "id": "b25eae32",
   "metadata": {},
   "outputs": [],
   "source": [
    "def calculate_loss(city_X, city_distances):\n",
    "    # Implementation of derivative function\n",
    "    loss = []\n",
    "    for i in range(9):\n",
    "        l = np.array([[0],[0]])\n",
    "        for j in range(9):\n",
    "            if i == j:\n",
    "                continue\n",
    "            l2_dist = np.linalg.norm(city_X[i]-city_X[j])\n",
    "            scale_dist = (l2_dist - city_distances[i][j])/l2_dist\n",
    "            diff = city_X[i]-city_X[j]\n",
    "            prod = diff * scale_dist\n",
    "            l = l + prod\n",
    "        loss.append(2*l)\n",
    "    return np.array(loss)"
   ]
  },
  {
   "cell_type": "markdown",
   "id": "7ef52668",
   "metadata": {},
   "source": [
    "Estimate City Coordinates. Function to initialize random city coordinates and then optimize for 5000 epochs"
   ]
  },
  {
   "cell_type": "code",
   "execution_count": 3,
   "id": "5a6f944f",
   "metadata": {},
   "outputs": [],
   "source": [
    "def calculate_lat_lon():\n",
    "    \n",
    "    # Distance of each city from each other are stored in city_distances\n",
    "\n",
    "    city_distances = []\n",
    "\n",
    "    city_distances.append([0, 206, 429, 1504, 963, 2976, 3095, 2979, 1949])\n",
    "    city_distances.append([206, 0, 233, 1308, 802, 2815, 2934, 2786, 1771])\n",
    "    city_distances.append([429, 233, 0, 1075, 671, 2684, 2799, 2631, 1616])\n",
    "    city_distances.append([1504, 1308, 1075, 0, 1329, 3273, 3053, 2687, 2037])\n",
    "    city_distances.append([963, 802, 671, 1329, 0, 2013, 2142, 2054, 996])\n",
    "    city_distances.append([2976, 2815, 2684, 3273, 2013, 0, 808, 1131, 1307])\n",
    "    city_distances.append([3095, 2934, 2799, 3053, 2142, 808, 0, 379, 1235])\n",
    "    city_distances.append([2979, 2786, 2631, 2687, 2054, 1131, 379, 0, 1059])\n",
    "    city_distances.append([1949, 1771, 1616, 2037, 996, 1307, 1235, 1059, 0])\n",
    "    \n",
    "    city_distances = np.array(city_distances)\n",
    "    \n",
    "    #Initialize random coords for the 9 cities\n",
    "    city_X = []\n",
    "    for _ in range(9):\n",
    "        city_X.append([[random.random()],[random.random()]])\n",
    "    city_X = np.array(city_X)\n",
    "    \n",
    "    #Call the optimization function defined above to find the city coordinates\n",
    "    lr = 0.01\n",
    "    # Epochs = 5000\n",
    "    for _ in range(5000):\n",
    "        loss = calculate_loss(city_X, city_distances)\n",
    "        city_X = city_X-lr*loss\n",
    "\n",
    "    return city_X\n"
   ]
  },
  {
   "cell_type": "code",
   "execution_count": null,
   "id": "7714cba5",
   "metadata": {},
   "outputs": [],
   "source": [
    "Plot estimated city coordinates"
   ]
  },
  {
   "cell_type": "code",
   "execution_count": 14,
   "id": "1db07539",
   "metadata": {},
   "outputs": [
    {
     "data": {
      "image/png": "[encoded data removed]",
      "text/plain": [
       "<Figure size 432x288 with 1 Axes>"
      ]
     },
     "metadata": {
      "needs_background": "light"
     },
     "output_type": "display_data"
    }
   ],
   "source": [
    "city_coords = calculate_lat_lon()\n",
    "fig, ax = plt.subplots()\n",
    "\n",
    "cities = ['BOS', 'NYC', 'DC', 'MIA', 'CHI', 'SEA', 'SF', 'LA', 'DEN']\n",
    "for i in range(9):\n",
    "    ax.scatter(city_coords[i][0], city_coords[i][1])\n",
    "    ax.annotate(cities[i], (city_coords[i][0], city_coords[i][1]))\n",
    "\n",
    "plt.xlabel('x coord')\n",
    "plt.ylabel('y coord')\n",
    "plt.show()"
   ]
  },
  {
   "cell_type": "code",
   "execution_count": 12,
   "id": "e2315a14",
   "metadata": {},
   "outputs": [
    {
     "data": {
      "image/png": "[encoded data removed]",
      "text/plain": [
       "<Figure size 432x288 with 1 Axes>"
      ]
     },
     "metadata": {
      "needs_background": "light"
     },
     "output_type": "display_data"
    }
   ],
   "source": [
    "city_coords = calculate_lat_lon()\n",
    "fig, ax = plt.subplots()\n",
    "\n",
    "cities = ['BOS', 'NYC', 'DC', 'MIA', 'CHI', 'SEA', 'SF', 'LA', 'DEN']\n",
    "for i in range(9):\n",
    "    ax.scatter(city_coords[i][0], city_coords[i][1])\n",
    "    ax.annotate(cities[i], (city_coords[i][0], city_coords[i][1]))\n",
    "\n",
    "plt.xlabel('x coord')\n",
    "plt.ylabel('y coord')\n",
    "plt.show()"
   ]
  },
  {
   "cell_type": "markdown",
   "id": "8904d2a2",
   "metadata": {},
   "source": [
    "The estimated locations roughly match the actual geographical locations of these cities. However, the plot that is generated varies on each iteration. It is seen that the plots generated are rotated or mirrored or both when compared to the actual geographic location."
   ]
  }
 ],
 "metadata": {
  "kernelspec": {
   "display_name": "Python 3",
   "language": "python",
   "name": "python3"
  },
  "language_info": {
   "codemirror_mode": {
    "name": "ipython",
    "version": 3
   },
   "file_extension": ".py",
   "mimetype": "text/x-python",
   "name": "python",
   "nbconvert_exporter": "python",
   "pygments_lexer": "ipython3",
   "version": "3.8.8"
  }
 },
 "nbformat": 4,
 "nbformat_minor": 5
}
